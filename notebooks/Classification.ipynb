{
 "cells": [
  {
   "cell_type": "markdown",
   "metadata": {},
   "source": [
    "# Intro to Machine Learning Workshop: Act 1\n",
    "\n",
    "This notebook is part of an Intro to Machine Learning workshop. It was used to generate the diagrams for the slides used in the presentation at the start of the workshop.\n",
    "\n",
    "---"
   ]
  },
  {
   "cell_type": "markdown",
   "metadata": {},
   "source": [
    "## Classification\n",
    "\n",
    "An example of a simple linear classifier, applied to random data.\n",
    "\n",
    "We'll use `numpy` to generate random numbers for the examples, `sklearn` to build the classifier, and `matplotlib` to visualise the results."
   ]
  },
  {
   "cell_type": "code",
   "execution_count": 89,
   "metadata": {},
   "outputs": [],
   "source": [
    "import matplotlib\n",
    "from matplotlib import pyplot as plt\n",
    "from matplotlib.colors import LinearSegmentedColormap\n",
    "import numpy as np\n",
    "from sklearn.linear_model import LogisticRegression"
   ]
  },
  {
   "cell_type": "markdown",
   "metadata": {},
   "source": [
    "Since we're doing this in a Jupyter Notebook, we need to configure the notebook to render `matplotlib`'s output inline."
   ]
  },
  {
   "cell_type": "code",
   "execution_count": 90,
   "metadata": {},
   "outputs": [],
   "source": [
    "%matplotlib inline"
   ]
  },
  {
   "cell_type": "markdown",
   "metadata": {},
   "source": [
    "Next, we'll change some `matplotlib` settings to make the images look better on slides with a black background by drawing the axes, ticks, and labels in white. This is purely an aesthetic choice for the presentation, but it serves as a nice example of `matplotlib` configuration."
   ]
  },
  {
   "cell_type": "code",
   "execution_count": 91,
   "metadata": {},
   "outputs": [],
   "source": [
    "matplotlib.rc('axes', edgecolor='w')\n",
    "matplotlib.rc('xtick', color='w')\n",
    "matplotlib.rc('ytick', color='w')"
   ]
  },
  {
   "cell_type": "markdown",
   "metadata": {},
   "source": [
    "We want the results to be exactly repeatable, so we'll fix `numpy`'s random number generation seed to make sure we get the same random numbers each time we run this notebook. I picked 42 (because I'm a hoopy frood who really knows where his towel is) but any number would have been fine."
   ]
  },
  {
   "cell_type": "code",
   "execution_count": 92,
   "metadata": {},
   "outputs": [],
   "source": [
    "np.random.seed(42)"
   ]
  },
  {
   "cell_type": "markdown",
   "metadata": {},
   "source": [
    "Now we can generate the random data we'll use in our classification example. We want the data to overlap and intermingle a little, but not too much. To get that effect, we'll use the same range for the two group's y co-ordinates, and different but overlapping ranges for their x co-ordinates."
   ]
  },
  {
   "cell_type": "code",
   "execution_count": 93,
   "metadata": {},
   "outputs": [],
   "source": [
    "group_a = np.column_stack((\n",
    "    np.random.randint(0, 155, size=100),\n",
    "    np.random.randint(0, 255, size=100),\n",
    "))\n",
    "group_b = np.column_stack((\n",
    "    np.random.randint(100, 255, size=100),\n",
    "    np.random.randint(0, 255, size=100),\n",
    "))"
   ]
  },
  {
   "cell_type": "markdown",
   "metadata": {},
   "source": [
    "Now we're ready to generate our first diagram: the raw, random data sets."
   ]
  },
  {
   "cell_type": "code",
   "execution_count": 94,
   "metadata": {},
   "outputs": [
    {
     "data": {
      "image/png": "[encoded data removed]",
      "text/plain": [
       "<Figure size 792x792 with 1 Axes>"
      ]
     },
     "metadata": {},
     "output_type": "display_data"
    }
   ],
   "source": [
    "plt.figure(figsize=(11, 11))\n",
    "plt.scatter(group_a[:, 0], group_a[:, 1], c='r', marker='+')\n",
    "plt.scatter(group_b[:, 0], group_b[:, 1], c='b', marker='^')\n",
    "plt.xlim(0, 255)\n",
    "plt.ylim(0, 255)\n",
    "plt.show()"
   ]
  },
  {
   "cell_type": "markdown",
   "metadata": {},
   "source": [
    "Next, we'll start working on our classifier. The first step is to combine our datasets into a single input matrix, with a vector with the expected group assignments (we'll call the groups `0` and `1`)."
   ]
  },
  {
   "cell_type": "code",
   "execution_count": 95,
   "metadata": {},
   "outputs": [],
   "source": [
    "inputs = np.concatenate((group_a, group_b))\n",
    "classes = np.array([0] * len(group_a) + [1] * len(group_b))"
   ]
  },
  {
   "cell_type": "markdown",
   "metadata": {},
   "source": [
    "We can now create a classifier, and train (or fit) it to our data."
   ]
  },
  {
   "cell_type": "code",
   "execution_count": 96,
   "metadata": {},
   "outputs": [
    {
     "name": "stdout",
     "output_type": "stream",
     "text": [
      "[LibLinear]"
     ]
    },
    {
     "data": {
      "text/plain": [
       "LogisticRegression(C=1.0, class_weight=None, dual=False, fit_intercept=True,\n",
       "          intercept_scaling=1, max_iter=100, multi_class='ovr', n_jobs=1,\n",
       "          penalty='l2', random_state=None, solver='liblinear', tol=0.0001,\n",
       "          verbose=True, warm_start=False)"
      ]
     },
     "execution_count": 96,
     "metadata": {},
     "output_type": "execute_result"
    }
   ],
   "source": [
    "classifier = LogisticRegression(verbose=True)\n",
    "classifier.fit(X, y)"
   ]
  },
  {
   "cell_type": "markdown",
   "metadata": {},
   "source": [
    "When we render the classification areas, we'll want them to be rendered in semi-transparent red and blue to match the colours of the groups in the previous visualisaiton. To achieve this, we need to create a custom colormap for `matplotlib` to use."
   ]
  },
  {
   "cell_type": "code",
   "execution_count": 97,
   "metadata": {},
   "outputs": [],
   "source": [
    "red_blue_cmap = LinearSegmentedColormap.from_list(\n",
    "    'RedBlue',\n",
    "    [(1, 0, 0, 0.5), (0, 0, 1, 0.5)],\n",
    ")\n",
    "plt.register_cmap(cmap=red_blue_cmap)"
   ]
  },
  {
   "cell_type": "markdown",
   "metadata": {},
   "source": [
    "To render the regions that the classifier will assign to our red and blue groups, we'll ask it to classify a dense grid of points across the whole of our co-ordinate space. First, let's generate the points in the grid."
   ]
  },
  {
   "cell_type": "code",
   "execution_count": 98,
   "metadata": {},
   "outputs": [],
   "source": [
    "step_size = 0.1\n",
    "grid_x, grid_y = np.meshgrid(\n",
    "    np.arange(0, 255, step_size),\n",
    "    np.arange(0, 255, step_size),\n",
    ")"
   ]
  },
  {
   "cell_type": "markdown",
   "metadata": {},
   "source": [
    "Now we can get our classifier's predictions for the grid."
   ]
  },
  {
   "cell_type": "code",
   "execution_count": 99,
   "metadata": {},
   "outputs": [],
   "source": [
    "grid_coords = np.c_[grid_x.ravel(), grid_y.ravel()]\n",
    "grid_classes = classifier.predict(grid_coords).reshape(grid_x.shape)"
   ]
  },
  {
   "cell_type": "markdown",
   "metadata": {},
   "source": [
    "Finally, we're ready to render our partitioned feature space, with the regions the classifier will predict belong to the red and blue classes."
   ]
  },
  {
   "cell_type": "code",
   "execution_count": 100,
   "metadata": {},
   "outputs": [
    {
     "data": {
      "image/png": "[encoded data removed]",
      "text/plain": [
       "<Figure size 792x792 with 1 Axes>"
      ]
     },
     "metadata": {},
     "output_type": "display_data"
    }
   ],
   "source": [
    "plt.figure(figsize=(11, 11))\n",
    "plt.contourf(grid_x, grid_y, grid_classes, cmap='RedBlue')\n",
    "plt.scatter(group_a[:, 0], group_a[:, 1], c='r', marker='+')\n",
    "plt.scatter(group_b[:, 0], group_b[:, 1], c='b', marker='^')\n",
    "plt.xlim(0, 255)\n",
    "plt.ylim(0, 255)\n",
    "plt.show()"
   ]
  }
 ],
 "metadata": {
  "kernelspec": {
   "display_name": "Python 3",
   "language": "python",
   "name": "python3"
  },
  "language_info": {
   "codemirror_mode": {
    "name": "ipython",
    "version": 3
   },
   "file_extension": ".py",
   "mimetype": "text/x-python",
   "name": "python",
   "nbconvert_exporter": "python",
   "pygments_lexer": "ipython3",
   "version": "3.6.5"
  }
 },
 "nbformat": 4,
 "nbformat_minor": 2
}
